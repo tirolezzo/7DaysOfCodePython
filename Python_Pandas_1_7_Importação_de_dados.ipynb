{
  "nbformat": 4,
  "nbformat_minor": 0,
  "metadata": {
    "colab": {
      "provenance": [],
      "authorship_tag": "ABX9TyO1H+PdrE0aOPOlhXdmMAOR",
      "include_colab_link": true
    },
    "kernelspec": {
      "name": "python3",
      "display_name": "Python 3"
    },
    "language_info": {
      "name": "python"
    }
  },
  "cells": [
    {
      "cell_type": "markdown",
      "metadata": {
        "id": "view-in-github",
        "colab_type": "text"
      },
      "source": [
        "<a href=\"https://colab.research.google.com/github/tirolezzo/7DaysOfCodePython/blob/main/Python_Pandas_1_7_Importa%C3%A7%C3%A3o_de_dados.ipynb\" target=\"_parent\"><img src=\"https://colab.research.google.com/assets/colab-badge.svg\" alt=\"Open In Colab\"/></a>"
      ]
    },
    {
      "cell_type": "markdown",
      "source": [
        "# Importando dados"
      ],
      "metadata": {
        "id": "8vOfcpJ-REvL"
      }
    },
    {
      "cell_type": "markdown",
      "source": [
        "\n",
        "Importando \"dados_exemplares(1).parquet\n",
        "\n"
      ],
      "metadata": {
        "id": "0uUS8Hs7_jTU"
      }
    },
    {
      "cell_type": "code",
      "execution_count": 79,
      "metadata": {
        "colab": {
          "base_uri": "https://localhost:8080/",
          "height": 455
        },
        "id": "-Unuh7_4-Nfz",
        "outputId": "90436b4e-dd6d-471a-f33b-0a6e8f88da9d"
      },
      "outputs": [
        {
          "output_type": "execute_result",
          "data": {
            "text/plain": [
              "        id_exemplar codigo_barras            colecao  \\\n",
              "index                                                  \n",
              "0                 5       L000003  Acervo Circulante   \n",
              "1                 4       L000002  Acervo Circulante   \n",
              "2                 3       L000001  Acervo Circulante   \n",
              "3                 7       L000114  Acervo Circulante   \n",
              "5                10       L000041  Acervo Circulante   \n",
              "...             ...           ...                ...   \n",
              "568580      1353472    2021011150  Acervo Circulante   \n",
              "568581      1353473    2019013454  Acervo Circulante   \n",
              "568582      1353474    2019012811  Acervo Circulante   \n",
              "568583      1353475    2019013451  Acervo Circulante   \n",
              "568584      1353476    2019012276  Acervo Circulante   \n",
              "\n",
              "                                               biblioteca status_material  \\\n",
              "index                                                                       \n",
              "0                          Biblioteca Central Zila Mamede         REGULAR   \n",
              "1                          Biblioteca Central Zila Mamede         REGULAR   \n",
              "2                          Biblioteca Central Zila Mamede        ESPECIAL   \n",
              "3                          Biblioteca Central Zila Mamede         REGULAR   \n",
              "5                          Biblioteca Central Zila Mamede        ESPECIAL   \n",
              "...                                                   ...             ...   \n",
              "568580  Biblioteca Setorial do Núcleo de Educação da I...         REGULAR   \n",
              "568581                     Biblioteca Central Zila Mamede        ESPECIAL   \n",
              "568582                     Biblioteca Central Zila Mamede        ESPECIAL   \n",
              "568583                     Biblioteca Central Zila Mamede        ESPECIAL   \n",
              "568584                     Biblioteca Central Zila Mamede        ESPECIAL   \n",
              "\n",
              "        localizacao  registro_sistema  \n",
              "index                                  \n",
              "0               694                 1  \n",
              "1               688                 1  \n",
              "2               638                 1  \n",
              "3               616                 5  \n",
              "5               657                15  \n",
              "...             ...               ...  \n",
              "568580          951            268231  \n",
              "568581          997            268233  \n",
              "568582          987            268234  \n",
              "568583          764            268235  \n",
              "568584          962            268236  \n",
              "\n",
              "[546237 rows x 7 columns]"
            ],
            "text/html": [
              "\n",
              "  <div id=\"df-29094c81-f471-49fc-b043-c28322f88353\">\n",
              "    <div class=\"colab-df-container\">\n",
              "      <div>\n",
              "<style scoped>\n",
              "    .dataframe tbody tr th:only-of-type {\n",
              "        vertical-align: middle;\n",
              "    }\n",
              "\n",
              "    .dataframe tbody tr th {\n",
              "        vertical-align: top;\n",
              "    }\n",
              "\n",
              "    .dataframe thead th {\n",
              "        text-align: right;\n",
              "    }\n",
              "</style>\n",
              "<table border=\"1\" class=\"dataframe\">\n",
              "  <thead>\n",
              "    <tr style=\"text-align: right;\">\n",
              "      <th></th>\n",
              "      <th>id_exemplar</th>\n",
              "      <th>codigo_barras</th>\n",
              "      <th>colecao</th>\n",
              "      <th>biblioteca</th>\n",
              "      <th>status_material</th>\n",
              "      <th>localizacao</th>\n",
              "      <th>registro_sistema</th>\n",
              "    </tr>\n",
              "    <tr>\n",
              "      <th>index</th>\n",
              "      <th></th>\n",
              "      <th></th>\n",
              "      <th></th>\n",
              "      <th></th>\n",
              "      <th></th>\n",
              "      <th></th>\n",
              "      <th></th>\n",
              "    </tr>\n",
              "  </thead>\n",
              "  <tbody>\n",
              "    <tr>\n",
              "      <th>0</th>\n",
              "      <td>5</td>\n",
              "      <td>L000003</td>\n",
              "      <td>Acervo Circulante</td>\n",
              "      <td>Biblioteca Central Zila Mamede</td>\n",
              "      <td>REGULAR</td>\n",
              "      <td>694</td>\n",
              "      <td>1</td>\n",
              "    </tr>\n",
              "    <tr>\n",
              "      <th>1</th>\n",
              "      <td>4</td>\n",
              "      <td>L000002</td>\n",
              "      <td>Acervo Circulante</td>\n",
              "      <td>Biblioteca Central Zila Mamede</td>\n",
              "      <td>REGULAR</td>\n",
              "      <td>688</td>\n",
              "      <td>1</td>\n",
              "    </tr>\n",
              "    <tr>\n",
              "      <th>2</th>\n",
              "      <td>3</td>\n",
              "      <td>L000001</td>\n",
              "      <td>Acervo Circulante</td>\n",
              "      <td>Biblioteca Central Zila Mamede</td>\n",
              "      <td>ESPECIAL</td>\n",
              "      <td>638</td>\n",
              "      <td>1</td>\n",
              "    </tr>\n",
              "    <tr>\n",
              "      <th>3</th>\n",
              "      <td>7</td>\n",
              "      <td>L000114</td>\n",
              "      <td>Acervo Circulante</td>\n",
              "      <td>Biblioteca Central Zila Mamede</td>\n",
              "      <td>REGULAR</td>\n",
              "      <td>616</td>\n",
              "      <td>5</td>\n",
              "    </tr>\n",
              "    <tr>\n",
              "      <th>5</th>\n",
              "      <td>10</td>\n",
              "      <td>L000041</td>\n",
              "      <td>Acervo Circulante</td>\n",
              "      <td>Biblioteca Central Zila Mamede</td>\n",
              "      <td>ESPECIAL</td>\n",
              "      <td>657</td>\n",
              "      <td>15</td>\n",
              "    </tr>\n",
              "    <tr>\n",
              "      <th>...</th>\n",
              "      <td>...</td>\n",
              "      <td>...</td>\n",
              "      <td>...</td>\n",
              "      <td>...</td>\n",
              "      <td>...</td>\n",
              "      <td>...</td>\n",
              "      <td>...</td>\n",
              "    </tr>\n",
              "    <tr>\n",
              "      <th>568580</th>\n",
              "      <td>1353472</td>\n",
              "      <td>2021011150</td>\n",
              "      <td>Acervo Circulante</td>\n",
              "      <td>Biblioteca Setorial do Núcleo de Educação da I...</td>\n",
              "      <td>REGULAR</td>\n",
              "      <td>951</td>\n",
              "      <td>268231</td>\n",
              "    </tr>\n",
              "    <tr>\n",
              "      <th>568581</th>\n",
              "      <td>1353473</td>\n",
              "      <td>2019013454</td>\n",
              "      <td>Acervo Circulante</td>\n",
              "      <td>Biblioteca Central Zila Mamede</td>\n",
              "      <td>ESPECIAL</td>\n",
              "      <td>997</td>\n",
              "      <td>268233</td>\n",
              "    </tr>\n",
              "    <tr>\n",
              "      <th>568582</th>\n",
              "      <td>1353474</td>\n",
              "      <td>2019012811</td>\n",
              "      <td>Acervo Circulante</td>\n",
              "      <td>Biblioteca Central Zila Mamede</td>\n",
              "      <td>ESPECIAL</td>\n",
              "      <td>987</td>\n",
              "      <td>268234</td>\n",
              "    </tr>\n",
              "    <tr>\n",
              "      <th>568583</th>\n",
              "      <td>1353475</td>\n",
              "      <td>2019013451</td>\n",
              "      <td>Acervo Circulante</td>\n",
              "      <td>Biblioteca Central Zila Mamede</td>\n",
              "      <td>ESPECIAL</td>\n",
              "      <td>764</td>\n",
              "      <td>268235</td>\n",
              "    </tr>\n",
              "    <tr>\n",
              "      <th>568584</th>\n",
              "      <td>1353476</td>\n",
              "      <td>2019012276</td>\n",
              "      <td>Acervo Circulante</td>\n",
              "      <td>Biblioteca Central Zila Mamede</td>\n",
              "      <td>ESPECIAL</td>\n",
              "      <td>962</td>\n",
              "      <td>268236</td>\n",
              "    </tr>\n",
              "  </tbody>\n",
              "</table>\n",
              "<p>546237 rows × 7 columns</p>\n",
              "</div>\n",
              "      <button class=\"colab-df-convert\" onclick=\"convertToInteractive('df-29094c81-f471-49fc-b043-c28322f88353')\"\n",
              "              title=\"Convert this dataframe to an interactive table.\"\n",
              "              style=\"display:none;\">\n",
              "        \n",
              "  <svg xmlns=\"http://www.w3.org/2000/svg\" height=\"24px\"viewBox=\"0 0 24 24\"\n",
              "       width=\"24px\">\n",
              "    <path d=\"M0 0h24v24H0V0z\" fill=\"none\"/>\n",
              "    <path d=\"M18.56 5.44l.94 2.06.94-2.06 2.06-.94-2.06-.94-.94-2.06-.94 2.06-2.06.94zm-11 1L8.5 8.5l.94-2.06 2.06-.94-2.06-.94L8.5 2.5l-.94 2.06-2.06.94zm10 10l.94 2.06.94-2.06 2.06-.94-2.06-.94-.94-2.06-.94 2.06-2.06.94z\"/><path d=\"M17.41 7.96l-1.37-1.37c-.4-.4-.92-.59-1.43-.59-.52 0-1.04.2-1.43.59L10.3 9.45l-7.72 7.72c-.78.78-.78 2.05 0 2.83L4 21.41c.39.39.9.59 1.41.59.51 0 1.02-.2 1.41-.59l7.78-7.78 2.81-2.81c.8-.78.8-2.07 0-2.86zM5.41 20L4 18.59l7.72-7.72 1.47 1.35L5.41 20z\"/>\n",
              "  </svg>\n",
              "      </button>\n",
              "      \n",
              "  <style>\n",
              "    .colab-df-container {\n",
              "      display:flex;\n",
              "      flex-wrap:wrap;\n",
              "      gap: 12px;\n",
              "    }\n",
              "\n",
              "    .colab-df-convert {\n",
              "      background-color: #E8F0FE;\n",
              "      border: none;\n",
              "      border-radius: 50%;\n",
              "      cursor: pointer;\n",
              "      display: none;\n",
              "      fill: #1967D2;\n",
              "      height: 32px;\n",
              "      padding: 0 0 0 0;\n",
              "      width: 32px;\n",
              "    }\n",
              "\n",
              "    .colab-df-convert:hover {\n",
              "      background-color: #E2EBFA;\n",
              "      box-shadow: 0px 1px 2px rgba(60, 64, 67, 0.3), 0px 1px 3px 1px rgba(60, 64, 67, 0.15);\n",
              "      fill: #174EA6;\n",
              "    }\n",
              "\n",
              "    [theme=dark] .colab-df-convert {\n",
              "      background-color: #3B4455;\n",
              "      fill: #D2E3FC;\n",
              "    }\n",
              "\n",
              "    [theme=dark] .colab-df-convert:hover {\n",
              "      background-color: #434B5C;\n",
              "      box-shadow: 0px 1px 3px 1px rgba(0, 0, 0, 0.15);\n",
              "      filter: drop-shadow(0px 1px 2px rgba(0, 0, 0, 0.3));\n",
              "      fill: #FFFFFF;\n",
              "    }\n",
              "  </style>\n",
              "\n",
              "      <script>\n",
              "        const buttonEl =\n",
              "          document.querySelector('#df-29094c81-f471-49fc-b043-c28322f88353 button.colab-df-convert');\n",
              "        buttonEl.style.display =\n",
              "          google.colab.kernel.accessAllowed ? 'block' : 'none';\n",
              "\n",
              "        async function convertToInteractive(key) {\n",
              "          const element = document.querySelector('#df-29094c81-f471-49fc-b043-c28322f88353');\n",
              "          const dataTable =\n",
              "            await google.colab.kernel.invokeFunction('convertToInteractive',\n",
              "                                                     [key], {});\n",
              "          if (!dataTable) return;\n",
              "\n",
              "          const docLinkHtml = 'Like what you see? Visit the ' +\n",
              "            '<a target=\"_blank\" href=https://colab.research.google.com/notebooks/data_table.ipynb>data table notebook</a>'\n",
              "            + ' to learn more about interactive tables.';\n",
              "          element.innerHTML = '';\n",
              "          dataTable['output_type'] = 'display_data';\n",
              "          await google.colab.output.renderOutput(dataTable, element);\n",
              "          const docLink = document.createElement('div');\n",
              "          docLink.innerHTML = docLinkHtml;\n",
              "          element.appendChild(docLink);\n",
              "        }\n",
              "      </script>\n",
              "    </div>\n",
              "  </div>\n",
              "  "
            ]
          },
          "metadata": {},
          "execution_count": 79
        }
      ],
      "source": [
        "import pandas as pd\n",
        "dados = pd.read_parquet('/dados_exemplares (1).parquet')\n",
        "dados\n"
      ]
    },
    {
      "cell_type": "code",
      "source": [
        "#1\n",
        "df_emprestimos_20201 = pd.read_csv('https://raw.githubusercontent.com/FranciscoFoz/7_Days_of_Code_Alura-Python-Pandas/main/Dia_1-Importando_dados/Datasets/dados_emprestimos/emprestimos-20201.csv')\n",
        "df_emprestimos_20201"
      ],
      "metadata": {
        "id": "R4sjkUS7_91y"
      },
      "execution_count": null,
      "outputs": []
    },
    {
      "cell_type": "code",
      "source": [
        "#2\n",
        "df_emprestimos_20192 = pd.read_csv('https://raw.githubusercontent.com/FranciscoFoz/7_Days_of_Code_Alura-Python-Pandas/main/Dia_1-Importando_dados/Datasets/dados_emprestimos/emprestimos-20192.csv')\n",
        "df_emprestimos_20192"
      ],
      "metadata": {
        "id": "AkI_pfEvAnAA"
      },
      "execution_count": null,
      "outputs": []
    },
    {
      "cell_type": "code",
      "source": [
        "#3\n",
        "df_emprestimos_20191 = pd.read_csv('https://raw.githubusercontent.com/FranciscoFoz/7_Days_of_Code_Alura-Python-Pandas/main/Dia_1-Importando_dados/Datasets/dados_emprestimos/emprestimos-20191.csv')\n",
        "df_emprestimos_20191"
      ],
      "metadata": {
        "id": "y-f7rWbjBGr1"
      },
      "execution_count": null,
      "outputs": []
    },
    {
      "cell_type": "code",
      "source": [
        "#4\n",
        "df_emprestimos_20182 = pd.read_csv('https://raw.githubusercontent.com/FranciscoFoz/7_Days_of_Code_Alura-Python-Pandas/main/Dia_1-Importando_dados/Datasets/dados_emprestimos/emprestimos-20182.csv')\n",
        "df_emprestimos_20182"
      ],
      "metadata": {
        "id": "z4bCWymXBHXQ"
      },
      "execution_count": null,
      "outputs": []
    },
    {
      "cell_type": "code",
      "source": [
        "#5\n",
        "df_emprestimos_20181 = pd.read_csv('https://raw.githubusercontent.com/FranciscoFoz/7_Days_of_Code_Alura-Python-Pandas/main/Dia_1-Importando_dados/Datasets/dados_emprestimos/emprestimos-20181.csv')\n",
        "df_emprestimos_20181"
      ],
      "metadata": {
        "id": "8GdFUUW1BrsT"
      },
      "execution_count": null,
      "outputs": []
    },
    {
      "cell_type": "code",
      "source": [
        "#6\n",
        "df_emprestimos_20172 = pd.read_csv('https://raw.githubusercontent.com/FranciscoFoz/7_Days_of_Code_Alura-Python-Pandas/main/Dia_1-Importando_dados/Datasets/dados_emprestimos/emprestimos-20172.csv')\n",
        "df_emprestimos_20172"
      ],
      "metadata": {
        "id": "SqWs-3DnBsdH"
      },
      "execution_count": null,
      "outputs": []
    },
    {
      "cell_type": "code",
      "source": [
        "#7\n",
        "df_emprestimos_20171 = pd.read_csv('https://raw.githubusercontent.com/FranciscoFoz/7_Days_of_Code_Alura-Python-Pandas/main/Dia_1-Importando_dados/Datasets/dados_emprestimos/emprestimos-20171.csv')\n",
        "df_emprestimos_20171"
      ],
      "metadata": {
        "id": "hoGW8uipCDl_"
      },
      "execution_count": null,
      "outputs": []
    },
    {
      "cell_type": "code",
      "source": [
        "#8\n",
        "df_emprestimos_20162 = pd.read_csv('https://raw.githubusercontent.com/FranciscoFoz/7_Days_of_Code_Alura-Python-Pandas/main/Dia_1-Importando_dados/Datasets/dados_emprestimos/emprestimos-20162.csv')\n",
        "df_emprestimos_20162"
      ],
      "metadata": {
        "id": "Fx4ovLc7CDjj"
      },
      "execution_count": null,
      "outputs": []
    },
    {
      "cell_type": "code",
      "source": [
        "#9\n",
        "df_emprestimos_20161 = pd.read_csv('https://raw.githubusercontent.com/FranciscoFoz/7_Days_of_Code_Alura-Python-Pandas/main/Dia_1-Importando_dados/Datasets/dados_emprestimos/emprestimos-20161.csv')\n",
        "df_emprestimos_20161"
      ],
      "metadata": {
        "id": "e_H8UR5xCDg7"
      },
      "execution_count": null,
      "outputs": []
    },
    {
      "cell_type": "code",
      "source": [
        "#10\n",
        "df_emprestimos_20152 = pd.read_csv('https://raw.githubusercontent.com/FranciscoFoz/7_Days_of_Code_Alura-Python-Pandas/main/Dia_1-Importando_dados/Datasets/dados_emprestimos/emprestimos-20152.csv')\n",
        "df_emprestimos_20152"
      ],
      "metadata": {
        "id": "cnEq3HN5CDZi"
      },
      "execution_count": null,
      "outputs": []
    },
    {
      "cell_type": "code",
      "source": [
        "#11\n",
        "df_emprestimos_20151 = pd.read_csv('https://raw.githubusercontent.com/FranciscoFoz/7_Days_of_Code_Alura-Python-Pandas/main/Dia_1-Importando_dados/Datasets/dados_emprestimos/emprestimos-20151.csv')\n",
        "df_emprestimos_20151"
      ],
      "metadata": {
        "id": "uypgRl0qCDNO"
      },
      "execution_count": null,
      "outputs": []
    },
    {
      "cell_type": "code",
      "source": [
        "#12\n",
        "df_emprestimos_20142 = pd.read_csv('https://raw.githubusercontent.com/FranciscoFoz/7_Days_of_Code_Alura-Python-Pandas/main/Dia_1-Importando_dados/Datasets/dados_emprestimos/emprestimos-20142.csv')\n",
        "df_emprestimos_20142"
      ],
      "metadata": {
        "id": "EvTwWpAjCDBD"
      },
      "execution_count": null,
      "outputs": []
    },
    {
      "cell_type": "code",
      "source": [
        "#13\n",
        "df_emprestimos_20141 = pd.read_csv('https://raw.githubusercontent.com/FranciscoFoz/7_Days_of_Code_Alura-Python-Pandas/main/Dia_1-Importando_dados/Datasets/dados_emprestimos/emprestimos-20141.csv')\n",
        "df_emprestimos_20141"
      ],
      "metadata": {
        "id": "Mib6xAjnC7Ct"
      },
      "execution_count": null,
      "outputs": []
    },
    {
      "cell_type": "code",
      "source": [
        "#14\n",
        "df_emprestimos_20132 = pd.read_csv('https://raw.githubusercontent.com/FranciscoFoz/7_Days_of_Code_Alura-Python-Pandas/main/Dia_1-Importando_dados/Datasets/dados_emprestimos/emprestimos-20132.csv')\n",
        "df_emprestimos_20132"
      ],
      "metadata": {
        "id": "bWeM3XV2C9xa"
      },
      "execution_count": null,
      "outputs": []
    },
    {
      "cell_type": "code",
      "source": [
        "#15\n",
        "df_emprestimos_20131 = pd.read_csv('https://raw.githubusercontent.com/FranciscoFoz/7_Days_of_Code_Alura-Python-Pandas/main/Dia_1-Importando_dados/Datasets/dados_emprestimos/emprestimos-20131.csv')\n",
        "df_emprestimos_20131"
      ],
      "metadata": {
        "id": "zQgEbUsOC-dh"
      },
      "execution_count": null,
      "outputs": []
    },
    {
      "cell_type": "code",
      "source": [
        "#16\n",
        "df_emprestimos_20122 = pd.read_csv('https://raw.githubusercontent.com/FranciscoFoz/7_Days_of_Code_Alura-Python-Pandas/main/Dia_1-Importando_dados/Datasets/dados_emprestimos/emprestimos-20122.csv')\n",
        "df_emprestimos_20122"
      ],
      "metadata": {
        "id": "vOtVxvYbC_LK"
      },
      "execution_count": null,
      "outputs": []
    },
    {
      "cell_type": "code",
      "source": [
        "#17\n",
        "df_emprestimos_20121 = pd.read_csv('https://raw.githubusercontent.com/FranciscoFoz/7_Days_of_Code_Alura-Python-Pandas/main/Dia_1-Importando_dados/Datasets/dados_emprestimos/emprestimos-20121.csv')\n",
        "df_emprestimos_20121"
      ],
      "metadata": {
        "id": "fQPCtiz3DNnI"
      },
      "execution_count": null,
      "outputs": []
    },
    {
      "cell_type": "code",
      "source": [
        "#18\n",
        "df_emprestimos_20112 = pd.read_csv('https://raw.githubusercontent.com/FranciscoFoz/7_Days_of_Code_Alura-Python-Pandas/main/Dia_1-Importando_dados/Datasets/dados_emprestimos/emprestimos-20112.csv')\n",
        "df_emprestimos_20112"
      ],
      "metadata": {
        "id": "m917TIkwDOJx"
      },
      "execution_count": null,
      "outputs": []
    },
    {
      "cell_type": "code",
      "source": [
        "#19\n",
        "df_emprestimos_20111 = pd.read_csv('https://raw.githubusercontent.com/FranciscoFoz/7_Days_of_Code_Alura-Python-Pandas/main/Dia_1-Importando_dados/Datasets/dados_emprestimos/emprestimos-20111.csv')\n",
        "df_emprestimos_20111"
      ],
      "metadata": {
        "id": "qBulKkiADOly"
      },
      "execution_count": null,
      "outputs": []
    },
    {
      "cell_type": "code",
      "source": [
        "#20\n",
        "df_emprestimos_20102 = pd.read_csv('https://raw.githubusercontent.com/FranciscoFoz/7_Days_of_Code_Alura-Python-Pandas/main/Dia_1-Importando_dados/Datasets/dados_emprestimos/emprestimos-20102.csv')\n",
        "df_emprestimos_20102"
      ],
      "metadata": {
        "id": "AXgOAxeCDPPh"
      },
      "execution_count": null,
      "outputs": []
    },
    {
      "cell_type": "code",
      "source": [
        "#21\n",
        "df_emprestimos_20101 = pd.read_csv('https://raw.githubusercontent.com/FranciscoFoz/7_Days_of_Code_Alura-Python-Pandas/main/Dia_1-Importando_dados/Datasets/dados_emprestimos/emprestimos-20101.csv')\n",
        "df_emprestimos_20101"
      ],
      "metadata": {
        "id": "7IZqYFDgDPzm"
      },
      "execution_count": null,
      "outputs": []
    },
    {
      "cell_type": "code",
      "source": [
        "tabela_emprestimos = pd.concat([\n",
        "    df_emprestimos_20201,\n",
        "    df_emprestimos_20192,\n",
        "    df_emprestimos_20191,\n",
        "    df_emprestimos_20182,\n",
        "    df_emprestimos_20181,\n",
        "    df_emprestimos_20172,\n",
        "    df_emprestimos_20171,\n",
        "    df_emprestimos_20162,\n",
        "    df_emprestimos_20161,\n",
        "    df_emprestimos_20152,\n",
        "    df_emprestimos_20151,\n",
        "    df_emprestimos_20142,\n",
        "    df_emprestimos_20141,\n",
        "    df_emprestimos_20132,\n",
        "    df_emprestimos_20131,\n",
        "    df_emprestimos_20122,\n",
        "    df_emprestimos_20121,\n",
        "    df_emprestimos_20112,\n",
        "    df_emprestimos_20111,\n",
        "    df_emprestimos_20102,\n",
        "    df_emprestimos_20101\n",
        "    ], ignore_index = True)\n",
        "tabela_emprestimos"
      ],
      "metadata": {
        "colab": {
          "base_uri": "https://localhost:8080/",
          "height": 424
        },
        "id": "lFmoJ0AiGQvB",
        "outputId": "c9b75740-1616-4b2d-de3f-bd76558264e2"
      },
      "execution_count": 101,
      "outputs": [
        {
          "output_type": "execute_result",
          "data": {
            "text/plain": [
              "         id_emprestimo codigo_barras                 data_renovacao  \\\n",
              "0              2962509    2007005628                            NaN   \n",
              "1              2962510       L202802                            NaN   \n",
              "2              2962511    2012008328                            NaN   \n",
              "3              2962512    2012055016  2020/01/17 09:56:18.380000000   \n",
              "4              2962513       L197391  2020/01/17 23:50:18.862000000   \n",
              "...                ...           ...                            ...   \n",
              "2258013         919377       C019571                            NaN   \n",
              "2258014         919379       C019573                            NaN   \n",
              "2258015         919381       C020714                            NaN   \n",
              "2258016         919382       C020845                            NaN   \n",
              "2258017         919431       Y011015                            NaN   \n",
              "\n",
              "                       data_emprestimo                 data_devolucao  \\\n",
              "0        2020/01/02 08:17:30.290000000  2020/01/07 11:14:07.000000000   \n",
              "1        2020/01/02 08:17:30.391000000  2020/01/07 11:14:17.000000000   \n",
              "2        2020/01/02 08:17:30.436000000  2020/01/07 11:24:46.000000000   \n",
              "3        2020/01/02 08:36:40.163000000  2020/01/31 14:53:52.000000000   \n",
              "4        2020/01/02 09:36:03.877000000  2020/01/24 08:18:19.000000000   \n",
              "...                                ...                            ...   \n",
              "2258013  2010/05/28 13:12:45.000000000  2010/05/28 17:42:02.000000000   \n",
              "2258014  2010/03/05 13:26:50.000000000  2010/04/08 18:52:47.000000000   \n",
              "2258015  2010/06/17 20:30:58.000000000  2010/06/24 10:51:23.000000000   \n",
              "2258016  2010/03/11 15:08:05.000000000  2010/03/11 17:24:24.000000000   \n",
              "2258017  2010/06/17 08:12:48.000000000  2010/06/30 07:34:08.000000000   \n",
              "\n",
              "         matricula_ou_siape    tipo_vinculo_usuario  \n",
              "0              2.018103e+10  ALUNO DE PÓS-GRADUAÇÃO  \n",
              "1              2.018103e+10  ALUNO DE PÓS-GRADUAÇÃO  \n",
              "2              2.018103e+10  ALUNO DE PÓS-GRADUAÇÃO  \n",
              "3              2.019015e+10      ALUNO DE GRADUAÇÃO  \n",
              "4              2.018005e+10      ALUNO DE GRADUAÇÃO  \n",
              "...                     ...                     ...  \n",
              "2258013        1.687161e+06                 DOCENTE  \n",
              "2258014        1.687161e+06                 DOCENTE  \n",
              "2258015        1.687161e+06                 DOCENTE  \n",
              "2258016        1.687161e+06                 DOCENTE  \n",
              "2258017        2.010204e+09  ALUNO DE PÓS-GRADUAÇÃO  \n",
              "\n",
              "[2258018 rows x 7 columns]"
            ],
            "text/html": [
              "\n",
              "  <div id=\"df-dd90450e-8c9d-406c-b419-54966c1bf98d\">\n",
              "    <div class=\"colab-df-container\">\n",
              "      <div>\n",
              "<style scoped>\n",
              "    .dataframe tbody tr th:only-of-type {\n",
              "        vertical-align: middle;\n",
              "    }\n",
              "\n",
              "    .dataframe tbody tr th {\n",
              "        vertical-align: top;\n",
              "    }\n",
              "\n",
              "    .dataframe thead th {\n",
              "        text-align: right;\n",
              "    }\n",
              "</style>\n",
              "<table border=\"1\" class=\"dataframe\">\n",
              "  <thead>\n",
              "    <tr style=\"text-align: right;\">\n",
              "      <th></th>\n",
              "      <th>id_emprestimo</th>\n",
              "      <th>codigo_barras</th>\n",
              "      <th>data_renovacao</th>\n",
              "      <th>data_emprestimo</th>\n",
              "      <th>data_devolucao</th>\n",
              "      <th>matricula_ou_siape</th>\n",
              "      <th>tipo_vinculo_usuario</th>\n",
              "    </tr>\n",
              "  </thead>\n",
              "  <tbody>\n",
              "    <tr>\n",
              "      <th>0</th>\n",
              "      <td>2962509</td>\n",
              "      <td>2007005628</td>\n",
              "      <td>NaN</td>\n",
              "      <td>2020/01/02 08:17:30.290000000</td>\n",
              "      <td>2020/01/07 11:14:07.000000000</td>\n",
              "      <td>2.018103e+10</td>\n",
              "      <td>ALUNO DE PÓS-GRADUAÇÃO</td>\n",
              "    </tr>\n",
              "    <tr>\n",
              "      <th>1</th>\n",
              "      <td>2962510</td>\n",
              "      <td>L202802</td>\n",
              "      <td>NaN</td>\n",
              "      <td>2020/01/02 08:17:30.391000000</td>\n",
              "      <td>2020/01/07 11:14:17.000000000</td>\n",
              "      <td>2.018103e+10</td>\n",
              "      <td>ALUNO DE PÓS-GRADUAÇÃO</td>\n",
              "    </tr>\n",
              "    <tr>\n",
              "      <th>2</th>\n",
              "      <td>2962511</td>\n",
              "      <td>2012008328</td>\n",
              "      <td>NaN</td>\n",
              "      <td>2020/01/02 08:17:30.436000000</td>\n",
              "      <td>2020/01/07 11:24:46.000000000</td>\n",
              "      <td>2.018103e+10</td>\n",
              "      <td>ALUNO DE PÓS-GRADUAÇÃO</td>\n",
              "    </tr>\n",
              "    <tr>\n",
              "      <th>3</th>\n",
              "      <td>2962512</td>\n",
              "      <td>2012055016</td>\n",
              "      <td>2020/01/17 09:56:18.380000000</td>\n",
              "      <td>2020/01/02 08:36:40.163000000</td>\n",
              "      <td>2020/01/31 14:53:52.000000000</td>\n",
              "      <td>2.019015e+10</td>\n",
              "      <td>ALUNO DE GRADUAÇÃO</td>\n",
              "    </tr>\n",
              "    <tr>\n",
              "      <th>4</th>\n",
              "      <td>2962513</td>\n",
              "      <td>L197391</td>\n",
              "      <td>2020/01/17 23:50:18.862000000</td>\n",
              "      <td>2020/01/02 09:36:03.877000000</td>\n",
              "      <td>2020/01/24 08:18:19.000000000</td>\n",
              "      <td>2.018005e+10</td>\n",
              "      <td>ALUNO DE GRADUAÇÃO</td>\n",
              "    </tr>\n",
              "    <tr>\n",
              "      <th>...</th>\n",
              "      <td>...</td>\n",
              "      <td>...</td>\n",
              "      <td>...</td>\n",
              "      <td>...</td>\n",
              "      <td>...</td>\n",
              "      <td>...</td>\n",
              "      <td>...</td>\n",
              "    </tr>\n",
              "    <tr>\n",
              "      <th>2258013</th>\n",
              "      <td>919377</td>\n",
              "      <td>C019571</td>\n",
              "      <td>NaN</td>\n",
              "      <td>2010/05/28 13:12:45.000000000</td>\n",
              "      <td>2010/05/28 17:42:02.000000000</td>\n",
              "      <td>1.687161e+06</td>\n",
              "      <td>DOCENTE</td>\n",
              "    </tr>\n",
              "    <tr>\n",
              "      <th>2258014</th>\n",
              "      <td>919379</td>\n",
              "      <td>C019573</td>\n",
              "      <td>NaN</td>\n",
              "      <td>2010/03/05 13:26:50.000000000</td>\n",
              "      <td>2010/04/08 18:52:47.000000000</td>\n",
              "      <td>1.687161e+06</td>\n",
              "      <td>DOCENTE</td>\n",
              "    </tr>\n",
              "    <tr>\n",
              "      <th>2258015</th>\n",
              "      <td>919381</td>\n",
              "      <td>C020714</td>\n",
              "      <td>NaN</td>\n",
              "      <td>2010/06/17 20:30:58.000000000</td>\n",
              "      <td>2010/06/24 10:51:23.000000000</td>\n",
              "      <td>1.687161e+06</td>\n",
              "      <td>DOCENTE</td>\n",
              "    </tr>\n",
              "    <tr>\n",
              "      <th>2258016</th>\n",
              "      <td>919382</td>\n",
              "      <td>C020845</td>\n",
              "      <td>NaN</td>\n",
              "      <td>2010/03/11 15:08:05.000000000</td>\n",
              "      <td>2010/03/11 17:24:24.000000000</td>\n",
              "      <td>1.687161e+06</td>\n",
              "      <td>DOCENTE</td>\n",
              "    </tr>\n",
              "    <tr>\n",
              "      <th>2258017</th>\n",
              "      <td>919431</td>\n",
              "      <td>Y011015</td>\n",
              "      <td>NaN</td>\n",
              "      <td>2010/06/17 08:12:48.000000000</td>\n",
              "      <td>2010/06/30 07:34:08.000000000</td>\n",
              "      <td>2.010204e+09</td>\n",
              "      <td>ALUNO DE PÓS-GRADUAÇÃO</td>\n",
              "    </tr>\n",
              "  </tbody>\n",
              "</table>\n",
              "<p>2258018 rows × 7 columns</p>\n",
              "</div>\n",
              "      <button class=\"colab-df-convert\" onclick=\"convertToInteractive('df-dd90450e-8c9d-406c-b419-54966c1bf98d')\"\n",
              "              title=\"Convert this dataframe to an interactive table.\"\n",
              "              style=\"display:none;\">\n",
              "        \n",
              "  <svg xmlns=\"http://www.w3.org/2000/svg\" height=\"24px\"viewBox=\"0 0 24 24\"\n",
              "       width=\"24px\">\n",
              "    <path d=\"M0 0h24v24H0V0z\" fill=\"none\"/>\n",
              "    <path d=\"M18.56 5.44l.94 2.06.94-2.06 2.06-.94-2.06-.94-.94-2.06-.94 2.06-2.06.94zm-11 1L8.5 8.5l.94-2.06 2.06-.94-2.06-.94L8.5 2.5l-.94 2.06-2.06.94zm10 10l.94 2.06.94-2.06 2.06-.94-2.06-.94-.94-2.06-.94 2.06-2.06.94z\"/><path d=\"M17.41 7.96l-1.37-1.37c-.4-.4-.92-.59-1.43-.59-.52 0-1.04.2-1.43.59L10.3 9.45l-7.72 7.72c-.78.78-.78 2.05 0 2.83L4 21.41c.39.39.9.59 1.41.59.51 0 1.02-.2 1.41-.59l7.78-7.78 2.81-2.81c.8-.78.8-2.07 0-2.86zM5.41 20L4 18.59l7.72-7.72 1.47 1.35L5.41 20z\"/>\n",
              "  </svg>\n",
              "      </button>\n",
              "      \n",
              "  <style>\n",
              "    .colab-df-container {\n",
              "      display:flex;\n",
              "      flex-wrap:wrap;\n",
              "      gap: 12px;\n",
              "    }\n",
              "\n",
              "    .colab-df-convert {\n",
              "      background-color: #E8F0FE;\n",
              "      border: none;\n",
              "      border-radius: 50%;\n",
              "      cursor: pointer;\n",
              "      display: none;\n",
              "      fill: #1967D2;\n",
              "      height: 32px;\n",
              "      padding: 0 0 0 0;\n",
              "      width: 32px;\n",
              "    }\n",
              "\n",
              "    .colab-df-convert:hover {\n",
              "      background-color: #E2EBFA;\n",
              "      box-shadow: 0px 1px 2px rgba(60, 64, 67, 0.3), 0px 1px 3px 1px rgba(60, 64, 67, 0.15);\n",
              "      fill: #174EA6;\n",
              "    }\n",
              "\n",
              "    [theme=dark] .colab-df-convert {\n",
              "      background-color: #3B4455;\n",
              "      fill: #D2E3FC;\n",
              "    }\n",
              "\n",
              "    [theme=dark] .colab-df-convert:hover {\n",
              "      background-color: #434B5C;\n",
              "      box-shadow: 0px 1px 3px 1px rgba(0, 0, 0, 0.15);\n",
              "      filter: drop-shadow(0px 1px 2px rgba(0, 0, 0, 0.3));\n",
              "      fill: #FFFFFF;\n",
              "    }\n",
              "  </style>\n",
              "\n",
              "      <script>\n",
              "        const buttonEl =\n",
              "          document.querySelector('#df-dd90450e-8c9d-406c-b419-54966c1bf98d button.colab-df-convert');\n",
              "        buttonEl.style.display =\n",
              "          google.colab.kernel.accessAllowed ? 'block' : 'none';\n",
              "\n",
              "        async function convertToInteractive(key) {\n",
              "          const element = document.querySelector('#df-dd90450e-8c9d-406c-b419-54966c1bf98d');\n",
              "          const dataTable =\n",
              "            await google.colab.kernel.invokeFunction('convertToInteractive',\n",
              "                                                     [key], {});\n",
              "          if (!dataTable) return;\n",
              "\n",
              "          const docLinkHtml = 'Like what you see? Visit the ' +\n",
              "            '<a target=\"_blank\" href=https://colab.research.google.com/notebooks/data_table.ipynb>data table notebook</a>'\n",
              "            + ' to learn more about interactive tables.';\n",
              "          element.innerHTML = '';\n",
              "          dataTable['output_type'] = 'display_data';\n",
              "          await google.colab.output.renderOutput(dataTable, element);\n",
              "          const docLink = document.createElement('div');\n",
              "          docLink.innerHTML = docLinkHtml;\n",
              "          element.appendChild(docLink);\n",
              "        }\n",
              "      </script>\n",
              "    </div>\n",
              "  </div>\n",
              "  "
            ]
          },
          "metadata": {},
          "execution_count": 101
        }
      ]
    },
    {
      "cell_type": "markdown",
      "source": [
        "# Limpeza dos dados"
      ],
      "metadata": {
        "id": "nmopHazGRLLT"
      }
    },
    {
      "cell_type": "markdown",
      "source": [
        "Remover duplicatas"
      ],
      "metadata": {
        "id": "dqJSLmVyQ6Ab"
      }
    },
    {
      "cell_type": "code",
      "source": [
        "tabela_emprestimos.value_counts()"
      ],
      "metadata": {
        "colab": {
          "base_uri": "https://localhost:8080/"
        },
        "id": "PE7vkzU_Q8zq",
        "outputId": "c7d862b9-a577-4fff-baf8-cde5b98079f0"
      },
      "execution_count": 105,
      "outputs": [
        {
          "output_type": "execute_result",
          "data": {
            "text/plain": [
              "id_emprestimo  codigo_barras  data_renovacao                 data_emprestimo                data_devolucao                 matricula_ou_siape  tipo_vinculo_usuario  \n",
              "709704         2006021442     2010/01/17 18:56:43.923000000  2010/01/04 09:58:46.522000000  2010/02/01 13:59:02.528000000  2.008010e+09        ALUNO DE GRADUAÇÃO        7\n",
              "709705         2009032168     2010/01/17 18:56:43.909000000  2010/01/04 09:58:46.549000000  2010/01/20 13:14:34.464000000  2.008010e+09        ALUNO DE GRADUAÇÃO        7\n",
              "709698         2009047725     2010/01/18 14:44:41.163000000  2010/01/04 09:21:19.099000000  2010/02/02 12:02:38.444000000  2.009047e+09        ALUNO DE GRADUAÇÃO        3\n",
              "709686         2006017618     2010/01/26 08:07:01.738000000  2010/01/04 08:08:44.081000000  2010/02/25 07:36:25.800000000  2.008112e+09        ALUNO DE PÓS-GRADUAÇÃO    2\n",
              "2461099        2012008348     2016/06/27 20:35:46.855000000  2016/06/14 11:20:33.254000000  2016/07/11 14:37:29.000000000  2.015022e+09        ALUNO DE GRADUAÇÃO        2\n",
              "                                                                                                                                                                        ..\n",
              "1443389        2011018954     2013/03/22 13:18:55.037000000  2013/03/07 11:21:26.480000000  2013/04/08 20:26:07.000000000  2.010046e+09        ALUNO DE GRADUAÇÃO        1\n",
              "1443390        2009056314     2013/03/21 09:28:45.689000000  2013/03/07 11:21:28.899000000  2013/04/05 18:18:00.000000000  2.011015e+09        ALUNO DE GRADUAÇÃO        1\n",
              "1443393        2012037906     2013/03/20 20:17:10.574000000  2013/03/07 11:24:19.326000000  2013/03/25 08:58:44.000000000  2.011038e+09        ALUNO DE GRADUAÇÃO        1\n",
              "1443395        2011033069     2013/04/07 01:06:51.679000000  2013/03/07 11:25:22.661000000  2013/05/07 16:19:34.000000000  2.011106e+09        ALUNO DE PÓS-GRADUAÇÃO    1\n",
              "10322328       2014070441     2018/01/15 12:26:00.697000000  2017/12/29 18:21:09.060000000  2018/01/31 18:50:25.000000000  2.014063e+09        ALUNO DE GRADUAÇÃO        1\n",
              "Length: 968028, dtype: int64"
            ]
          },
          "metadata": {},
          "execution_count": 105
        }
      ]
    },
    {
      "cell_type": "code",
      "source": [
        "tabela_emprestimos = tabela_emprestimos.drop_duplicates()\n",
        "tabela_emprestimos.value_counts()"
      ],
      "metadata": {
        "colab": {
          "base_uri": "https://localhost:8080/"
        },
        "id": "9RPkV7ELRX4k",
        "outputId": "bd856b39-b723-4e77-80c3-c18873594e7f"
      },
      "execution_count": 108,
      "outputs": [
        {
          "output_type": "execute_result",
          "data": {
            "text/plain": [
              "id_emprestimo  codigo_barras  data_renovacao                 data_emprestimo                data_devolucao                 matricula_ou_siape  tipo_vinculo_usuario  \n",
              "709686         2006017618     2010/01/26 08:07:01.738000000  2010/01/04 08:08:44.081000000  2010/02/25 07:36:25.800000000  2.008112e+09        ALUNO DE PÓS-GRADUAÇÃO    1\n",
              "2336122        2011033079     2016/11/21 02:01:58.488000000  2016/11/10 17:00:12.989000000  2016/12/02 14:21:49.000000000  2.016023e+09        ALUNO DE GRADUAÇÃO        1\n",
              "2336103        2014085936     2016/11/25 19:25:36.215000000  2016/11/10 16:54:52.447000000  2016/12/13 14:30:52.000000000  2.014047e+09        ALUNO DE GRADUAÇÃO        1\n",
              "2336104        2011027960     2016/11/23 17:27:54.642000000  2016/11/10 16:55:17.956000000  2016/11/28 10:32:38.000000000  2.016083e+09        ALUNO DE GRADUAÇÃO        1\n",
              "2336105        2014000897     2016/12/02 15:02:53.356000000  2016/11/10 16:55:19.851000000  2016/12/23 13:53:23.000000000  2.014071e+09        ALUNO DE GRADUAÇÃO        1\n",
              "                                                                                                                                                                        ..\n",
              "1443383        2010043058     2013/03/21 14:06:09.837000000  2013/03/07 11:17:25.008000000  2013/03/22 11:31:20.000000000  2.010023e+09        ALUNO DE GRADUAÇÃO        1\n",
              "1443387        L147018        2013/03/21 19:43:42.047000000  2013/03/07 11:20:01.159000000  2013/04/04 10:50:22.000000000  2.013053e+09        ALUNO DE GRADUAÇÃO        1\n",
              "1443389        2011018954     2013/03/22 13:18:55.037000000  2013/03/07 11:21:26.480000000  2013/04/08 20:26:07.000000000  2.010046e+09        ALUNO DE GRADUAÇÃO        1\n",
              "1443390        2009056314     2013/03/21 09:28:45.689000000  2013/03/07 11:21:28.899000000  2013/04/05 18:18:00.000000000  2.011015e+09        ALUNO DE GRADUAÇÃO        1\n",
              "10322328       2014070441     2018/01/15 12:26:00.697000000  2017/12/29 18:21:09.060000000  2018/01/31 18:50:25.000000000  2.014063e+09        ALUNO DE GRADUAÇÃO        1\n",
              "Length: 968028, dtype: int64"
            ]
          },
          "metadata": {},
          "execution_count": 108
        }
      ]
    },
    {
      "cell_type": "code",
      "source": [
        "tabela_emprestimos.info()"
      ],
      "metadata": {
        "colab": {
          "base_uri": "https://localhost:8080/"
        },
        "id": "XEe3p_1EGzWT",
        "outputId": "6976587a-b330-4a22-83b0-cfc3d09e4d57"
      },
      "execution_count": 109,
      "outputs": [
        {
          "output_type": "stream",
          "name": "stdout",
          "text": [
            "<class 'pandas.core.frame.DataFrame'>\n",
            "Int64Index: 2257981 entries, 0 to 2258017\n",
            "Data columns (total 7 columns):\n",
            " #   Column                Dtype  \n",
            "---  ------                -----  \n",
            " 0   id_emprestimo         int64  \n",
            " 1   codigo_barras         object \n",
            " 2   data_renovacao        object \n",
            " 3   data_emprestimo       object \n",
            " 4   data_devolucao        object \n",
            " 5   matricula_ou_siape    float64\n",
            " 6   tipo_vinculo_usuario  object \n",
            "dtypes: float64(1), int64(1), object(5)\n",
            "memory usage: 137.8+ MB\n"
          ]
        }
      ]
    },
    {
      "cell_type": "code",
      "source": [
        "tabela_emprestimos.shape"
      ],
      "metadata": {
        "colab": {
          "base_uri": "https://localhost:8080/"
        },
        "id": "RJ3-LYovJ_7N",
        "outputId": "582c5139-b32a-43a8-818f-ca746b69914c"
      },
      "execution_count": 112,
      "outputs": [
        {
          "output_type": "execute_result",
          "data": {
            "text/plain": [
              "(2257981, 7)"
            ]
          },
          "metadata": {},
          "execution_count": 112
        }
      ]
    },
    {
      "cell_type": "code",
      "source": [],
      "metadata": {
        "id": "81gWnLlHKkWn"
      },
      "execution_count": null,
      "outputs": []
    },
    {
      "cell_type": "code",
      "source": [],
      "metadata": {
        "id": "nMA8pz7ML2vs"
      },
      "execution_count": 104,
      "outputs": []
    }
  ]
}